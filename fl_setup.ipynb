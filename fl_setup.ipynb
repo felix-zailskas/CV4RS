{
 "cells": [
  {
   "cell_type": "markdown",
   "metadata": {},
   "source": [
    "First we split the dataset. This only needs to be done once. We use a seed to ensure consistent results."
   ]
  },
  {
   "cell_type": "code",
   "execution_count": 1,
   "metadata": {},
   "outputs": [],
   "source": [
    "import pandas as pd\n",
    "from sklearn.model_selection import train_test_split\n",
    "\n",
    "df = pd.read_csv(\"data/train.csv\", header=None)\n",
    "\n",
    "seed = 42\n",
    "\n",
    "df_c1, temp = train_test_split(df, test_size=0.7, random_state=seed)\n",
    "df_c2, df_c3 = train_test_split(df, test_size=0.5, random_state=seed)\n",
    "\n",
    "df_c1.to_csv(\"data/c1_train.csv\", index=False, header=None)\n",
    "df_c2.to_csv(\"data/c2_train.csv\", index=False, header=None)\n",
    "df_c3.to_csv(\"data/c3_train.csv\", index=False, header=None)"
   ]
  },
  {
   "cell_type": "code",
   "execution_count": 2,
   "metadata": {},
   "outputs": [],
   "source": [
    "cuda_no = 1\n",
    "batch_size = 128\n",
    "num_workers = 0\n",
    "epochs = 20\n",
    "communication_rounds = 40\n",
    "\n",
    "channels = 10\n",
    "num_classes = 19\n",
    "dataset_filter = \"serbia\""
   ]
  },
  {
   "cell_type": "code",
   "execution_count": 3,
   "metadata": {},
   "outputs": [
    {
     "name": "stderr",
     "output_type": "stream",
     "text": [
      "/opt/homebrew/Caskroom/miniconda/base/envs/cv4rs/lib/python3.11/site-packages/torchvision/models/_utils.py:208: UserWarning: The parameter 'pretrained' is deprecated since 0.13 and may be removed in the future, please use 'weights' instead.\n",
      "  warnings.warn(\n",
      "/opt/homebrew/Caskroom/miniconda/base/envs/cv4rs/lib/python3.11/site-packages/torchvision/models/_utils.py:223: UserWarning: Arguments other than a weight enum or `None` for 'weights' are deprecated since 0.13 and may be removed in the future. The current behavior is equivalent to passing `weights=ResNet18_Weights.IMAGENET1K_V1`. You can also use `weights=ResNet18_Weights.DEFAULT` to get the most up-to-date weights.\n",
      "  warnings.warn(msg)\n"
     ]
    }
   ],
   "source": [
    "from utils.pytorch_models import ResNet18\n",
    "from models.poolformer import create_poolformer_s12\n",
    "from utils.clients import GlobalClient\n",
    "\n",
    "resnet18 = ResNet18(num_cls=num_classes, channels=channels, pretrained=True)\n",
    "poolformer_s12 = create_poolformer_s12(in_chans=channels, num_classes=num_classes)\n",
    "\n",
    "\n",
    "global_client_resnet18 = GlobalClient(\n",
    "    model=resnet18,\n",
    "    lmdb_path=\"data/BigEarth_Serbia_Summer_S2.lmdb\",\n",
    "    val_path=\"data/test.csv\",\n",
    "    csv_paths=[\"data/c1_train.csv\", \"data/c2_train.csv\", \"data/c3_train.csv\"],\n",
    ")\n",
    "global_client_poolformerS12 = GlobalClient(\n",
    "    model=poolformer_s12,\n",
    "    lmdb_path=\"data/BigEarth_Serbia_Summer_S2.lmdb\",\n",
    "    val_path=\"data/test.csv\",\n",
    "    csv_paths=[\"data/c1_train.csv\", \"data/c2_train.csv\", \"data/c3_train.csv\"],\n",
    ")"
   ]
  },
  {
   "cell_type": "code",
   "execution_count": 4,
   "metadata": {},
   "outputs": [
    {
     "name": "stdout",
     "output_type": "stream",
     "text": [
      "Round 1/1\n",
      "----------\n",
      "Epoch 1/1\n",
      "----------\n"
     ]
    },
    {
     "name": "stderr",
     "output_type": "stream",
     "text": [
      "training:   0%|          | 0/19 [00:04<?, ?it/s]\n"
     ]
    },
    {
     "name": "stdout",
     "output_type": "stream",
     "text": [
      "Epoch 1/1\n",
      "----------\n"
     ]
    },
    {
     "name": "stderr",
     "output_type": "stream",
     "text": [
      "training:   0%|          | 0/31 [00:04<?, ?it/s]\n"
     ]
    },
    {
     "name": "stdout",
     "output_type": "stream",
     "text": [
      "Epoch 1/1\n",
      "----------\n"
     ]
    },
    {
     "name": "stderr",
     "output_type": "stream",
     "text": [
      "training:   0%|          | 0/31 [00:04<?, ?it/s]\n",
      "test: 100%|██████████| 28/28 [00:58<00:00,  2.09s/it]"
     ]
    },
    {
     "name": "stdout",
     "output_type": "stream",
     "text": [
      "micro     precision: 0.1437 | recall: 1.0000 | f1-score: 0.2512 | support: 9725 | mAP: 0.1437\n",
      "macro     precision: 0.1437 | recall: 0.7895 | f1-score: 0.2137 | support: 9725 | mAP: 0.1437\n",
      "\n"
     ]
    },
    {
     "name": "stderr",
     "output_type": "stream",
     "text": [
      "\n",
      "/opt/homebrew/Caskroom/miniconda/base/envs/cv4rs/lib/python3.11/site-packages/sklearn/metrics/_classification.py:1344: UndefinedMetricWarning: Recall and F-score are ill-defined and being set to 0.0 in labels with no true samples. Use `zero_division` parameter to control this behavior.\n",
      "  _warn_prf(average, modifier, msg_start, len(result))\n",
      "/opt/homebrew/Caskroom/miniconda/base/envs/cv4rs/lib/python3.11/site-packages/sklearn/metrics/_ranking.py:891: UserWarning: No positive class found in y_true, recall is set to one for all thresholds.\n",
      "  warnings.warn(\n",
      "/opt/homebrew/Caskroom/miniconda/base/envs/cv4rs/lib/python3.11/site-packages/sklearn/metrics/_ranking.py:891: UserWarning: No positive class found in y_true, recall is set to one for all thresholds.\n",
      "  warnings.warn(\n",
      "/opt/homebrew/Caskroom/miniconda/base/envs/cv4rs/lib/python3.11/site-packages/sklearn/metrics/_ranking.py:891: UserWarning: No positive class found in y_true, recall is set to one for all thresholds.\n",
      "  warnings.warn(\n",
      "/opt/homebrew/Caskroom/miniconda/base/envs/cv4rs/lib/python3.11/site-packages/sklearn/metrics/_ranking.py:891: UserWarning: No positive class found in y_true, recall is set to one for all thresholds.\n",
      "  warnings.warn(\n"
     ]
    }
   ],
   "source": [
    "global_resnet18_results = global_client_resnet18.train(communication_rounds=communication_rounds, epochs=epochs)"
   ]
  },
  {
   "cell_type": "code",
   "execution_count": null,
   "metadata": {},
   "outputs": [],
   "source": [
    "global_poolformer_s12_results = global_client_resnet18.train(communication_rounds=communication_rounds, epochs=epochs)"
   ]
  }
 ],
 "metadata": {
  "kernelspec": {
   "display_name": "cv4rs",
   "language": "python",
   "name": "python3"
  },
  "language_info": {
   "codemirror_mode": {
    "name": "ipython",
    "version": 3
   },
   "file_extension": ".py",
   "mimetype": "text/x-python",
   "name": "python",
   "nbconvert_exporter": "python",
   "pygments_lexer": "ipython3",
   "version": "3.11.5"
  }
 },
 "nbformat": 4,
 "nbformat_minor": 2
}
