{
 "cells": [
  {
   "cell_type": "code",
   "execution_count": null,
   "metadata": {},
   "outputs": [],
   "source": [
    "import pickle\n",
    "\n",
    "with open(\"s12_results.pkl\", \"rb\") as f:\n",
    "    s_12_results = pickle.load(f)\n",
    "\n",
    "with open(\"resnet_results.pkl\", \"rb\") as f:\n",
    "    resnet_results = pickle.load(f)"
   ]
  }
 ],
 "metadata": {
  "kernelspec": {
   "display_name": "cv4rs",
   "language": "python",
   "name": "python3"
  },
  "language_info": {
   "name": "python",
   "version": "3.11.5"
  }
 },
 "nbformat": 4,
 "nbformat_minor": 2
}
